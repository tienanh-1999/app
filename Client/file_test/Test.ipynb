{
  "nbformat": 4,
  "nbformat_minor": 0,
  "metadata": {
    "colab": {
      "name": "Dictionary.ipynb",
      "provenance": []
    },
    "kernelspec": {
      "name": "python3",
      "display_name": "Python 3"
    }
  },
  "cells": [
    {
      "cell_type": "markdown",
      "metadata": {
        "id": "vEUMjJBVrOVM",
        "colab_type": "text"
      },
      "source": [
        "**1) Khai báo Dictionary**"
      ]
    },
    {
      "cell_type": "code",
      "metadata": {
        "id": "ww4My7_Fp4by",
        "colab_type": "code",
        "colab": {}
      },
      "source": [
        "# Để khai báo một dictionary chúng ta sử dụng cặp dấu {} theo cú pháp sau:\n",
        "#            {key1: value1, key2: value2,..., keyN: valueN}"
      ],
      "execution_count": 0,
      "outputs": []
    },
    {
      "cell_type": "code",
      "metadata": {
        "id": "K5P_uUnvq2w5",
        "colab_type": "code",
        "outputId": "c09cf3e5-d867-405c-be1d-ac07f12b5003",
        "colab": {
          "base_uri": "https://localhost:8080/",
          "height": 34
        }
      },
      "source": [
        "# example:\n",
        "person = {'name': 'Vũ Thanh Tài','age': 22,'male': True,'status': 'single'}\n",
        "print(person)"
      ],
      "execution_count": 0,
      "outputs": [
        {
          "output_type": "stream",
          "text": [
            "{'name': 'Vũ Thanh Tài', 'age': 22, 'male': True, 'status': 'single'}\n"
          ],
          "name": "stdout"
        }
      ]
    },
    {
      "cell_type": "code",
      "metadata": {
        "id": "9pyeLucUrkep",
        "colab_type": "code",
        "colab": {}
      },
      "source": [
        "# excercise: khai báo một Dictionary với các keys sau: tên, tuổi, giới tính, nickname, trường, sở thích\n",
        "\n",
        "\n"
      ],
      "execution_count": 0,
      "outputs": []
    },
    {
      "cell_type": "markdown",
      "metadata": {
        "id": "Lvo80gw3rXhU",
        "colab_type": "text"
      },
      "source": [
        "**2) Truy cập đến các phần tử trong dictionary**"
      ]
    },
    {
      "cell_type": "code",
      "metadata": {
        "id": "lMmZReshq_KF",
        "colab_type": "code",
        "outputId": "981ff5be-6403-4346-a1fe-1401dfd0ec1f",
        "colab": {
          "base_uri": "https://localhost:8080/",
          "height": 34
        }
      },
      "source": [
        "print(person['name'])"
      ],
      "execution_count": 0,
      "outputs": [
        {
          "output_type": "stream",
          "text": [
            "Vũ Thanh Tài\n"
          ],
          "name": "stdout"
        }
      ]
    },
    {
      "cell_type": "code",
      "metadata": {
        "id": "QcI3YKMnrFs8",
        "colab_type": "code",
        "colab": {}
      },
      "source": [
        "# excercise: in ra màn hình từng phần tử trong Dictionary đã khai báo ở trên\n",
        "\n",
        "\n"
      ],
      "execution_count": 0,
      "outputs": []
    },
    {
      "cell_type": "markdown",
      "metadata": {
        "id": "bjSR17JisV2P",
        "colab_type": "text"
      },
      "source": [
        "**3) Thay đổi giá trị của dictionary**"
      ]
    },
    {
      "cell_type": "code",
      "metadata": {
        "id": "hASwwZUisZo2",
        "colab_type": "code",
        "outputId": "5e434747-bd33-4efa-aae3-eebb0a33116b",
        "colab": {
          "base_uri": "https://localhost:8080/",
          "height": 34
        }
      },
      "source": [
        "person['status'] = 'married'\n",
        "print(person)"
      ],
      "execution_count": 0,
      "outputs": [
        {
          "output_type": "stream",
          "text": [
            "{'name': 'Vũ Thanh Tài', 'age': 22, 'male': True, 'status': 'married'}\n"
          ],
          "name": "stdout"
        }
      ]
    },
    {
      "cell_type": "code",
      "metadata": {
        "id": "P1LnkQL5seAP",
        "colab_type": "code",
        "colab": {}
      },
      "source": [
        "# excercise: thay đổi 1 phần tử trong Dictionary trên và in ra \n",
        "\n"
      ],
      "execution_count": 0,
      "outputs": []
    },
    {
      "cell_type": "markdown",
      "metadata": {
        "id": "42WBoHadtJR2",
        "colab_type": "text"
      },
      "source": [
        "**4) Xóa phần tử trong dictionary**"
      ]
    },
    {
      "cell_type": "code",
      "metadata": {
        "id": "XK4jl28htEZz",
        "colab_type": "code",
        "outputId": "4f43450a-6d0d-49b9-a131-6c60e2f9d07e",
        "colab": {
          "base_uri": "https://localhost:8080/",
          "height": 34
        }
      },
      "source": [
        "# Để xóa một phần tử trong dictionary thì chúng ta sử dụng hàm del và chọn phần tử cần xóa.\n",
        "\n",
        "del person['status']\n",
        "print(person)"
      ],
      "execution_count": 0,
      "outputs": [
        {
          "output_type": "stream",
          "text": [
            "{'name': 'Vũ Thanh Tài', 'age': 22, 'male': True}\n"
          ],
          "name": "stdout"
        }
      ]
    },
    {
      "cell_type": "code",
      "metadata": {
        "id": "kBhswLKutYIZ",
        "colab_type": "code",
        "colab": {}
      },
      "source": [
        "# excercise: xoá 2 phần tử trong Dictionary trên\n",
        "\n"
      ],
      "execution_count": 0,
      "outputs": []
    },
    {
      "cell_type": "markdown",
      "metadata": {
        "id": "LDm853nIuaEV",
        "colab_type": "text"
      },
      "source": [
        "**5) Vòng lặp trong Dictionary**"
      ]
    },
    {
      "cell_type": "code",
      "metadata": {
        "id": "gAmy60jkuZh8",
        "colab_type": "code",
        "outputId": "ecaef211-4b39-4263-f119-3fa555bfeb84",
        "colab": {
          "base_uri": "https://localhost:8080/",
          "height": 67
        }
      },
      "source": [
        "for key in person:\n",
        "  print(key, person[key])"
      ],
      "execution_count": 0,
      "outputs": [
        {
          "output_type": "stream",
          "text": [
            "name Vũ Thanh Tài\n",
            "age 22\n",
            "male True\n"
          ],
          "name": "stdout"
        }
      ]
    },
    {
      "cell_type": "code",
      "metadata": {
        "id": "3u_QyflJtqjZ",
        "colab_type": "code",
        "colab": {}
      },
      "source": [
        "# excercise: viết vòng lặp in ra các thông tin trong Dictionary:\n",
        "\n"
      ],
      "execution_count": 0,
      "outputs": []
    },
    {
      "cell_type": "code",
      "metadata": {
        "id": "o1SoC_ESu_eF",
        "colab_type": "code",
        "colab": {}
      },
      "source": [
        ""
      ],
      "execution_count": 0,
      "outputs": []
    }
  ]
}